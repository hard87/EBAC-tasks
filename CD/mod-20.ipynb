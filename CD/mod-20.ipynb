{
 "cells": [
  {
   "cell_type": "markdown",
   "id": "08306063",
   "metadata": {},
   "source": [
    "<a id = \"volte_aqui\"></a> <div align=\"center\">\n",
    " ## <span style=\"color:SlateBlue\">Fórmula de Bhaskara </span>\n"
   ]
  },
  {
   "cell_type": "markdown",
   "id": "40ed874e",
   "metadata": {},
   "source": [
    "<br>\n",
    "<br>\n",
    "A solução para função de segundo grau depende das suas raízes (valores de x).<br>\n",
    "Como Já vimos, os coeficiente precisam ser números reais e o angular diferente de zero.<br>\n",
    "Sendo assim, temos a seguinte fórmula de Bhaskara:\n",
    "\n",
    "\n",
    "\n",
    "\n",
    "\n",
    "## $$x=\\frac{-b \\pm \\sqrt {b^2-4.a.c}}{2.a}$$\n",
    "    \n",
    "<div align=\"center\"> <i>Fórmula de Bhaskara</i></div><br>\n",
    "<br>Para melhor compreensão o seu cálculo é dividido em duas partes: discriminante da equação<br>\n",
    "e operações para determinar as raízes.\n",
    "    \n",
    "#### **Discriminante:** <br>\n",
    "A figura dentro da raiz na fórmula de Bhaskara é nomeada de discriminante. <br>\n",
    "Seu símbolo é a letra grega delta e apresenta a determinada fórmula:<br>\n",
    "<br>\n",
    "    \n",
    "\n",
    "# $$\\Delta = b^2 - 4.a.c$$\n",
    "\n",
    "<div align=\"center\"><i>Fómula discriminante</i></div>\n",
    "\n",
    "\n",
    "* Se o delta for maior que zero, a equação terá dois valores reais e distintos.\n",
    "- Se o delta for igual a zero, a equação terá somente um valor real ou dois resultados iguais.\n",
    "* Se o delta for menos que zero, a equação não possuirá valores reais."
   ]
  },
  {
   "cell_type": "markdown",
   "id": "2ce8af2c",
   "metadata": {},
   "source": [
    "# Citações: <br>\n",
    "\n",
    "**Benjamin Disraeli:**\n",
    "> <i>\"Existem três tipos de mentiras: Mentiras, Mentiras sujas, e estatísticas.\"\n",
    "    \n",
    "**Isaac Newton:**\n",
    "> <i> \"Construímos muros demais e pontes de menos.\"\n",
    "\n",
    "**Pablo Neruda:**\n",
    "> <i> \"Saudade é amar um passado que ainda não passou. É recusar o presente que nos magoa. É não ver o futuro que nos convida...\""
   ]
  },
  {
   "attachments": {},
   "cell_type": "markdown",
   "id": "9ecf5398",
   "metadata": {},
   "source": [
    "# Imagem:\n",
    "\n",
    "![imagem](https://www.nvidia.com/content/dam/en-zz/Solutions/gtcDC/training/nvidia-dli-workshop-accelerated-data-science-3c33-t@2x.jpg)"
   ]
  },
  {
   "cell_type": "markdown",
   "id": "90ee31a4",
   "metadata": {},
   "source": [
    "# Link de seção:\n",
    "[Home](#volte_aqui)"
   ]
  }
 ],
 "metadata": {
  "kernelspec": {
   "display_name": "Python 3 (ipykernel)",
   "language": "python",
   "name": "python3"
  },
  "language_info": {
   "codemirror_mode": {
    "name": "ipython",
    "version": 3
   },
   "file_extension": ".py",
   "mimetype": "text/x-python",
   "name": "python",
   "nbconvert_exporter": "python",
   "pygments_lexer": "ipython3",
   "version": "3.9.7"
  }
 },
 "nbformat": 4,
 "nbformat_minor": 5
}
